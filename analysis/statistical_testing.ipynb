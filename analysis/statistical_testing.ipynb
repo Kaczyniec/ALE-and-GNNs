{
 "cells": [
  {
   "cell_type": "code",
   "execution_count": 1,
   "metadata": {},
   "outputs": [],
   "source": [
    "import pandas as pd\n",
    "import matplotlib.pyplot as plt\n",
    "\n",
    "paths = {\"CD1-E_no2 dataset, ALE method, GCN model\": \"C:/Users/ppaul/Documents/influence_on_ideas/data/CD1-E_no2/ALE_all_GCN_n_layers2_hidden_size256.csv\",\n",
    "        \"CD1-E_no2 dataset, ALE method, GAT model\": \"C:/Users/ppaul/Documents/influence_on_ideas/data/CD1-E_no2/ALE_all_GAT_n_layers2_hidden_size256.csv\", \n",
    "         \"citations dataset, ALE method, GCN model\": \"C:/Users/ppaul/Documents/influence_on_ideas/data/citations/ALE_04.08_GCN_n_layers2_hidden_size256.csv\",\n",
    "         \"citations dataset, ALE method, GAT model\": \"C:/Users/ppaul/Documents/influence_on_ideas/data/citations/ALE_04.08_GAT_n_layers2_hidden_size256.csv\"}\n",
    "#path_ale_gat = pd.read_csv(\"C:/Users/ppaul/Documents/influence_on_ideas/data/CD1-E_no2/ALE_GAT_n_layers2_hidden_size256.csv\", names=['trial', 'k', 'max_bin_size', 'explanation_exact', 'time_exact', 'explanation_approximate', 'time_approximate'], header=None)\n",
    "def read_data(path):\n",
    "\n",
    "    if \"cit\" in path:\n",
    "        df = pd.read_csv(\n",
    "            path,\n",
    "            names=['index', 'k', 'max_bin_size',  'explanation_approximate', 'time_approximate', 'explanation_exact', 'time_exact'], \n",
    "            header=None, index_col=None)\n",
    "    else:\n",
    "        df = pd.read_csv(\n",
    "            path,\n",
    "            index_col=None,\n",
    "        )\n",
    "    return df"
   ]
  },
  {
   "cell_type": "code",
   "execution_count": 4,
   "metadata": {},
   "outputs": [],
   "source": [
    "import numpy as np\n",
    "def chi2(df):\n",
    "\n",
    "    chi2 = (df['explanation_exact']['mean'] - df['explanation_approximate']['mean'])**2 /(df['explanation_exact']['sem']**2 + df['explanation_approximate']['sem']**2)\n",
    "    return chi2\n",
    "\n",
    "def sem(x):\n",
    "    return x.sem(ddof=0)\n",
    "\n",
    "def calculate_chi2(path):\n",
    "    df = read_data(path)\n",
    "    grouped_df = df.groupby('index').agg({\n",
    "        'explanation_exact': ['mean', sem],\n",
    "        'explanation_approximate': ['mean', sem]\n",
    "    })\n",
    "    grouped_df['chi2'] = chi2(grouped_df)\n",
    "    print(grouped_df)\n",
    "    print(path, grouped_df['chi2'].sum())\n",
    "    #mod = df.apply(lambda x: x['k']*x['max_bin_size'], axis=1).sum()/5\n",
    "    #gt = df.set_index('index').apply(lambda x: x['explanation_exact']*x['max_bin_size']*x['k']/mod,axis=1).groupby(['index']).sum()\n",
    "    #ap = df.set_index('index').apply(lambda x: x['explanation_approximate']*x['max_bin_size']*x['k']/mod,axis=1).groupby(['index']).sum()\n",
    "    #grouped_df['explanation_exact']['mean'] = gt\n",
    "    #grouped_df['explanation_approximate']['mean'] = ap\n",
    "    #print(grouped_df, gt)\n",
    "    #print(chi2(grouped_df).sum())\n"
   ]
  },
  {
   "cell_type": "code",
   "execution_count": 5,
   "metadata": {},
   "outputs": [
    {
     "name": "stdout",
     "output_type": "stream",
     "text": [
      "      explanation_exact           explanation_approximate                chi2\n",
      "                   mean       sem                    mean       sem          \n",
      "index                                                                        \n",
      "0             -0.000335  0.000235                0.000401  0.000463  2.014200\n",
      "1              0.000357  0.000376                0.001551  0.000745  2.045627\n",
      "2              0.002165  0.000454                0.005111  0.001102  6.105956\n",
      "3              0.003339  0.000503                0.005578  0.001190  3.004068\n",
      "4              0.005877  0.000518                0.008674  0.001251  4.269286\n",
      "C:/Users/ppaul/Documents/influence_on_ideas/data/CD1-E_no2/ALE_all_GCN_n_layers2_hidden_size256.csv 17.439136383523113\n",
      "      explanation_exact           explanation_approximate                chi2\n",
      "                   mean       sem                    mean       sem          \n",
      "index                                                                        \n",
      "0             -0.016855  0.000585               -0.016911  0.000717  0.003625\n",
      "1             -0.029753  0.000841               -0.030197  0.000865  0.135249\n",
      "2             -0.041309  0.001023               -0.040455  0.001071  0.332584\n",
      "3             -0.052735  0.001102               -0.051383  0.001250  0.658116\n",
      "4             -0.059496  0.001229               -0.058773  0.001274  0.166741\n",
      "C:/Users/ppaul/Documents/influence_on_ideas/data/CD1-E_no2/ALE_all_GAT_n_layers2_hidden_size256.csv 1.2963152302835304\n",
      "      explanation_exact           explanation_approximate                chi2\n",
      "                   mean       sem                    mean       sem          \n",
      "index                                                                        \n",
      "0              0.001308  0.000064                0.001239  0.000175  0.136146\n",
      "1              0.002748  0.000075                0.002190  0.000274  3.861649\n",
      "2              0.004389  0.000078                0.003991  0.000323  1.433904\n",
      "3              0.004389  0.000078                0.003991  0.000323  1.433904\n",
      "4              0.005922  0.000107                0.005685  0.000418  0.299784\n",
      "C:/Users/ppaul/Documents/influence_on_ideas/data/citations/ALE_04.08_GCN_n_layers2_hidden_size256.csv 7.165386575258865\n",
      "      explanation_exact           explanation_approximate                chi2\n",
      "                   mean       sem                    mean       sem          \n",
      "index                                                                        \n",
      "0              0.000901  0.000057                0.000765  0.000180  0.522096\n",
      "1              0.001965  0.000069                0.001432  0.000270  3.664181\n",
      "2              0.003158  0.000077                0.002867  0.000364  0.613510\n",
      "3              0.003158  0.000077                0.002867  0.000364  0.613510\n",
      "4              0.004047  0.000102                0.004044  0.000508  0.000024\n",
      "C:/Users/ppaul/Documents/influence_on_ideas/data/citations/ALE_04.08_GAT_n_layers2_hidden_size256.csv 5.413320812862125\n"
     ]
    }
   ],
   "source": [
    "for path in paths.values():\n",
    "    calculate_chi2(path)"
   ]
  },
  {
   "cell_type": "code",
   "execution_count": 40,
   "metadata": {},
   "outputs": [
    {
     "data": {
      "text/plain": [
       "index\n",
       "0    4.029242e-07\n",
       "1    2.381063e-11\n",
       "2    1.527278e-06\n",
       "3    9.330201e-07\n",
       "4    1.326012e-06\n",
       "dtype: float64"
      ]
     },
     "execution_count": 40,
     "metadata": {},
     "output_type": "execute_result"
    }
   ],
   "source": [
    "(gt-ap)**2/"
   ]
  },
  {
   "cell_type": "code",
   "execution_count": 18,
   "metadata": {},
   "outputs": [],
   "source": [
    "import numpy as np\n",
    "df = read_data(paths[\"citations dataset, ALE method, GCN model\"])\n",
    "df[\"trial\"] = np.floor([x/5 for x in df.index.to_list()])"
   ]
  },
  {
   "cell_type": "code",
   "execution_count": 32,
   "metadata": {},
   "outputs": [
    {
     "name": "stdout",
     "output_type": "stream",
     "text": [
      "0.5797\n"
     ]
    }
   ],
   "source": [
    "grouped = df.groupby(\"trial\").agg(\n",
    "    {\n",
    "        \"k\": lambda x: list(x)[0],\n",
    "        \"max_bin_size\": lambda x: list(x)[0],\n",
    "        \"explanation_exact\": list,\n",
    "        \"explanation_approximate\": list,\n",
    "    }\n",
    ")\n",
    "grouped = pd.concat(\n",
    "    [\n",
    "        grouped[[\"k\", \"max_bin_size\", \"explanation_exact\"]].rename(\n",
    "            {\"explanation_exact\": \"explanation\"}, axis=1\n",
    "        ),\n",
    "        grouped[[\"k\", \"max_bin_size\", \"explanation_approximate\"]].rename(\n",
    "            {\"explanation_approximate\": \"explanation\"}, axis=1\n",
    "        ),\n",
    "    ]\n",
    ")\n",
    "grouped[\"explanation\"] = grouped[\"explanation\"].apply(lambda x: np.array(x))\n",
    "\n",
    "\n",
    "def goldstandard(df):\n",
    "    mod = df.apply(lambda x: x[\"k\"] * x[\"max_bin_size\"], axis=1).sum()\n",
    "    gt = df.apply(\n",
    "        lambda x: x[\"explanation\"] * x[\"max_bin_size\"] * x[\"k\"] / mod, axis=1\n",
    "    ).sum()\n",
    "    return gt\n",
    "\n",
    "\n",
    "def root_mean_squared_error(x, y):\n",
    "    return np.sqrt(np.mean((x - y) ** 2))\n",
    "\n",
    "\n",
    "def statistic(df):\n",
    "    return root_mean_squared_error(\n",
    "        goldstandard(df.iloc[: int(len(df) / 2)]),\n",
    "        goldstandard(df.iloc[int(len(df) / 2) :]),\n",
    "    )\n",
    "\n",
    "\n",
    "org = statistic(grouped)\n",
    "stats_list = []\n",
    "counter = 0\n",
    "n = 10000\n",
    "for i in range(n-1):\n",
    "    # Shuffle the combined data\n",
    "    val = statistic(grouped.sample(frac=1))\n",
    "    stats_list.append(val)\n",
    "    counter+=val<org\n",
    "print(counter/n)\n"
   ]
  },
  {
   "cell_type": "code",
   "execution_count": null,
   "metadata": {},
   "outputs": [],
   "source": [
    "import numpy as np\n",
    "\n",
    "def permutation_test(explanation_exact, explanation_approximate, n_permutations=10000):\n",
    "    # Combine the data\n",
    "    combined_data = np.concatenate([explanation_exact, explanation_approximate])\n",
    "    \n",
    "    # Calculate the observed difference in means\n",
    "    observed_diff = np.mean(explanation_exact) - np.mean(explanation_approximate)\n",
    "    \n",
    "    # Initialize an array to store the differences from permutation\n",
    "    permuted_diffs = np.zeros(n_permutations)\n",
    "    \n",
    "    # Perform permutations\n",
    "    for i in range(n_permutations):\n",
    "        # Shuffle the combined data\n",
    "        np.random.shuffle(combined_data)\n",
    "        \n",
    "        # Split the permuted data\n",
    "        perm_exact = combined_data[:len(explanation_exact)]\n",
    "        perm_approx = combined_data[len(explanation_exact):]\n",
    "        \n",
    "        # Calculate the difference in means for this permutation\n",
    "        permuted_diffs[i] = np.mean(perm_exact) - np.mean(perm_approx)\n",
    "    \n",
    "    # Calculate the p-value\n",
    "    p_value = np.mean(np.abs(permuted_diffs) >= np.abs(observed_diff))\n",
    "    \n",
    "    return observed_diff, p_value, permuted_diffs\n",
    "\n",
    "# Example usage:\n",
    "# Assuming explanation_exact and explanation_approximate are numpy arrays containing the data\n",
    "observed_diff, p_value, permuted_diffs = permutation_test(explanation_exact, explanation_approximate)\n",
    "\n",
    "print(f'Observed difference: {observed_diff}')\n",
    "print(f'p-value: {p_value}')\n"
   ]
  }
 ],
 "metadata": {
  "kernelspec": {
   "display_name": "ioi_windows_venv",
   "language": "python",
   "name": "python3"
  },
  "language_info": {
   "codemirror_mode": {
    "name": "ipython",
    "version": 3
   },
   "file_extension": ".py",
   "mimetype": "text/x-python",
   "name": "python",
   "nbconvert_exporter": "python",
   "pygments_lexer": "ipython3",
   "version": "3.8.2"
  }
 },
 "nbformat": 4,
 "nbformat_minor": 2
}
